{
 "cells": [
  {
   "cell_type": "markdown",
   "metadata": {},
   "source": [
    "<div style=\"border:solid green 4px; padding: 20px\">Hello! I can clearly see the amount of work you've already done on your project, it is the time to review the results. My critical comments are highlighted with <span style='color: red;'>red</span>,  less urgent remarks are in <span style='color: #ebd731;'>yellow</span>, recommendations and extra information - in <span style='color: green;'>green</span>.</div>"
   ]
  },
  {
   "cell_type": "markdown",
   "metadata": {},
   "source": [
    "## Analyzing borrowers’ risk of defaulting\n",
    "\n",
    "Your project is to prepare a report for a bank’s loan division. You’ll need to find out if a customer’s marital status and number of children has an impact on whether they will default on a loan. The bank already has some data on customers’ credit worthiness.\n",
    "\n",
    "Your report will be considered when building a **credit scoring** of a potential customer. A ** credit scoring ** is used to evaluate the ability of a potential borrower to repay their loan."
   ]
  },
  {
   "cell_type": "markdown",
   "metadata": {},
   "source": [
    "### Step 1. Open the data file and have a look at the general information. "
   ]
  },
  {
   "cell_type": "code",
   "execution_count": 1,
   "metadata": {
    "scrolled": true
   },
   "outputs": [
    {
     "name": "stdout",
     "output_type": "stream",
     "text": [
      "<class 'pandas.core.frame.DataFrame'>\n",
      "RangeIndex: 21525 entries, 0 to 21524\n",
      "Data columns (total 12 columns):\n",
      "children            21525 non-null int64\n",
      "days_employed       19351 non-null float64\n",
      "dob_years           21525 non-null int64\n",
      "education           21525 non-null object\n",
      "education_id        21525 non-null int64\n",
      "family_status       21525 non-null object\n",
      "family_status_id    21525 non-null int64\n",
      "gender              21525 non-null object\n",
      "income_type         21525 non-null object\n",
      "debt                21525 non-null int64\n",
      "total_income        19351 non-null float64\n",
      "purpose             21525 non-null object\n",
      "dtypes: float64(2), int64(5), object(5)\n",
      "memory usage: 2.0+ MB\n",
      "None\n",
      "   children  days_employed  dob_years            education  education_id  \\\n",
      "0         1   -8437.673028         42    bachelor's degree             0   \n",
      "1         1   -4024.803754         36  secondary education             1   \n",
      "2         0   -5623.422610         33  Secondary Education             1   \n",
      "3         3   -4124.747207         32  secondary education             1   \n",
      "4         0  340266.072047         53  secondary education             1   \n",
      "5         0    -926.185831         27    bachelor's degree             0   \n",
      "6         0   -2879.202052         43    bachelor's degree             0   \n",
      "7         0    -152.779569         50  SECONDARY EDUCATION             1   \n",
      "8         2   -6929.865299         35    BACHELOR'S DEGREE             0   \n",
      "9         0   -2188.756445         41  secondary education             1   \n",
      "\n",
      "       family_status  family_status_id gender income_type  debt  total_income  \\\n",
      "0            married                 0      F    employee     0     40620.102   \n",
      "1            married                 0      F    employee     0     17932.802   \n",
      "2            married                 0      M    employee     0     23341.752   \n",
      "3            married                 0      M    employee     0     42820.568   \n",
      "4  civil partnership                 1      F     retiree     0     25378.572   \n",
      "5  civil partnership                 1      M    business     0     40922.170   \n",
      "6            married                 0      F    business     0     38484.156   \n",
      "7            married                 0      M    employee     0     21731.829   \n",
      "8  civil partnership                 1      F    employee     0     15337.093   \n",
      "9            married                 0      M    employee     0     23108.150   \n",
      "\n",
      "                               purpose  \n",
      "0                purchase of the house  \n",
      "1                         car purchase  \n",
      "2                purchase of the house  \n",
      "3              supplementary education  \n",
      "4                    to have a wedding  \n",
      "5                purchase of the house  \n",
      "6                 housing transactions  \n",
      "7                            education  \n",
      "8                     having a wedding  \n",
      "9  purchase of the house for my family  \n",
      "       children  days_employed  dob_years            education  education_id  \\\n",
      "21515         1    -467.685130         28  secondary education             1   \n",
      "21516         0    -914.391429         42    bachelor's degree             0   \n",
      "21517         0    -404.679034         42    bachelor's degree             0   \n",
      "21518         0  373995.710838         59  SECONDARY EDUCATION             1   \n",
      "21519         1   -2351.431934         37      graduate degree             4   \n",
      "21520         1   -4529.316663         43  secondary education             1   \n",
      "21521         0  343937.404131         67  secondary education             1   \n",
      "21522         1   -2113.346888         38  secondary education             1   \n",
      "21523         3   -3112.481705         38  secondary education             1   \n",
      "21524         2   -1984.507589         40  secondary education             1   \n",
      "\n",
      "           family_status  family_status_id gender income_type  debt  \\\n",
      "21515            married                 0      F    employee     1   \n",
      "21516            married                 0      F    business     0   \n",
      "21517  civil partnership                 1      F    business     0   \n",
      "21518            married                 0      F     retiree     0   \n",
      "21519           divorced                 3      M    employee     0   \n",
      "21520  civil partnership                 1      F    business     0   \n",
      "21521            married                 0      F     retiree     0   \n",
      "21522  civil partnership                 1      M    employee     1   \n",
      "21523            married                 0      M    employee     1   \n",
      "21524            married                 0      F    employee     0   \n",
      "\n",
      "       total_income                     purpose  \n",
      "21515     17517.812          to become educated  \n",
      "21516     51649.244    purchase of my own house  \n",
      "21517     28489.529           buying my own car  \n",
      "21518     24618.344           purchase of a car  \n",
      "21519     18551.846  buy commercial real estate  \n",
      "21520     35966.698        housing transactions  \n",
      "21521     24959.969           purchase of a car  \n",
      "21522     14347.610                    property  \n",
      "21523     39054.888           buying my own car  \n",
      "21524     13127.587                to buy a car  \n"
     ]
    }
   ],
   "source": [
    "import pandas as pd\n",
    "import nltk\n",
    "from nltk.stem import WordNetLemmatizer\n",
    "wordnet_lemma = WordNetLemmatizer()\n",
    "\n",
    "credit_report = pd.read_csv('/datasets/credit_scoring_eng.csv')\n",
    "\n",
    "print(credit_report.info())\n",
    "\n",
    "#Browse the first and last 10 rows of the data to determine what's in it\n",
    "print(credit_report.head(10))\n",
    "print(credit_report.tail(10))\n",
    "\n"
   ]
  },
  {
   "cell_type": "markdown",
   "metadata": {},
   "source": [
    "<div style=\"border:solid green 4px; padding: 20px\">You can print out your last output of cell like this:</div>"
   ]
  },
  {
   "cell_type": "code",
   "execution_count": 2,
   "metadata": {},
   "outputs": [
    {
     "data": {
      "text/html": [
       "<div>\n",
       "<style scoped>\n",
       "    .dataframe tbody tr th:only-of-type {\n",
       "        vertical-align: middle;\n",
       "    }\n",
       "\n",
       "    .dataframe tbody tr th {\n",
       "        vertical-align: top;\n",
       "    }\n",
       "\n",
       "    .dataframe thead th {\n",
       "        text-align: right;\n",
       "    }\n",
       "</style>\n",
       "<table border=\"1\" class=\"dataframe\">\n",
       "  <thead>\n",
       "    <tr style=\"text-align: right;\">\n",
       "      <th></th>\n",
       "      <th>children</th>\n",
       "      <th>days_employed</th>\n",
       "      <th>dob_years</th>\n",
       "      <th>education</th>\n",
       "      <th>education_id</th>\n",
       "      <th>family_status</th>\n",
       "      <th>family_status_id</th>\n",
       "      <th>gender</th>\n",
       "      <th>income_type</th>\n",
       "      <th>debt</th>\n",
       "      <th>total_income</th>\n",
       "      <th>purpose</th>\n",
       "    </tr>\n",
       "  </thead>\n",
       "  <tbody>\n",
       "    <tr>\n",
       "      <td>0</td>\n",
       "      <td>1</td>\n",
       "      <td>-8437.673028</td>\n",
       "      <td>42</td>\n",
       "      <td>bachelor's degree</td>\n",
       "      <td>0</td>\n",
       "      <td>married</td>\n",
       "      <td>0</td>\n",
       "      <td>F</td>\n",
       "      <td>employee</td>\n",
       "      <td>0</td>\n",
       "      <td>40620.102</td>\n",
       "      <td>purchase of the house</td>\n",
       "    </tr>\n",
       "    <tr>\n",
       "      <td>1</td>\n",
       "      <td>1</td>\n",
       "      <td>-4024.803754</td>\n",
       "      <td>36</td>\n",
       "      <td>secondary education</td>\n",
       "      <td>1</td>\n",
       "      <td>married</td>\n",
       "      <td>0</td>\n",
       "      <td>F</td>\n",
       "      <td>employee</td>\n",
       "      <td>0</td>\n",
       "      <td>17932.802</td>\n",
       "      <td>car purchase</td>\n",
       "    </tr>\n",
       "    <tr>\n",
       "      <td>2</td>\n",
       "      <td>0</td>\n",
       "      <td>-5623.422610</td>\n",
       "      <td>33</td>\n",
       "      <td>Secondary Education</td>\n",
       "      <td>1</td>\n",
       "      <td>married</td>\n",
       "      <td>0</td>\n",
       "      <td>M</td>\n",
       "      <td>employee</td>\n",
       "      <td>0</td>\n",
       "      <td>23341.752</td>\n",
       "      <td>purchase of the house</td>\n",
       "    </tr>\n",
       "    <tr>\n",
       "      <td>3</td>\n",
       "      <td>3</td>\n",
       "      <td>-4124.747207</td>\n",
       "      <td>32</td>\n",
       "      <td>secondary education</td>\n",
       "      <td>1</td>\n",
       "      <td>married</td>\n",
       "      <td>0</td>\n",
       "      <td>M</td>\n",
       "      <td>employee</td>\n",
       "      <td>0</td>\n",
       "      <td>42820.568</td>\n",
       "      <td>supplementary education</td>\n",
       "    </tr>\n",
       "    <tr>\n",
       "      <td>4</td>\n",
       "      <td>0</td>\n",
       "      <td>340266.072047</td>\n",
       "      <td>53</td>\n",
       "      <td>secondary education</td>\n",
       "      <td>1</td>\n",
       "      <td>civil partnership</td>\n",
       "      <td>1</td>\n",
       "      <td>F</td>\n",
       "      <td>retiree</td>\n",
       "      <td>0</td>\n",
       "      <td>25378.572</td>\n",
       "      <td>to have a wedding</td>\n",
       "    </tr>\n",
       "    <tr>\n",
       "      <td>5</td>\n",
       "      <td>0</td>\n",
       "      <td>-926.185831</td>\n",
       "      <td>27</td>\n",
       "      <td>bachelor's degree</td>\n",
       "      <td>0</td>\n",
       "      <td>civil partnership</td>\n",
       "      <td>1</td>\n",
       "      <td>M</td>\n",
       "      <td>business</td>\n",
       "      <td>0</td>\n",
       "      <td>40922.170</td>\n",
       "      <td>purchase of the house</td>\n",
       "    </tr>\n",
       "    <tr>\n",
       "      <td>6</td>\n",
       "      <td>0</td>\n",
       "      <td>-2879.202052</td>\n",
       "      <td>43</td>\n",
       "      <td>bachelor's degree</td>\n",
       "      <td>0</td>\n",
       "      <td>married</td>\n",
       "      <td>0</td>\n",
       "      <td>F</td>\n",
       "      <td>business</td>\n",
       "      <td>0</td>\n",
       "      <td>38484.156</td>\n",
       "      <td>housing transactions</td>\n",
       "    </tr>\n",
       "    <tr>\n",
       "      <td>7</td>\n",
       "      <td>0</td>\n",
       "      <td>-152.779569</td>\n",
       "      <td>50</td>\n",
       "      <td>SECONDARY EDUCATION</td>\n",
       "      <td>1</td>\n",
       "      <td>married</td>\n",
       "      <td>0</td>\n",
       "      <td>M</td>\n",
       "      <td>employee</td>\n",
       "      <td>0</td>\n",
       "      <td>21731.829</td>\n",
       "      <td>education</td>\n",
       "    </tr>\n",
       "    <tr>\n",
       "      <td>8</td>\n",
       "      <td>2</td>\n",
       "      <td>-6929.865299</td>\n",
       "      <td>35</td>\n",
       "      <td>BACHELOR'S DEGREE</td>\n",
       "      <td>0</td>\n",
       "      <td>civil partnership</td>\n",
       "      <td>1</td>\n",
       "      <td>F</td>\n",
       "      <td>employee</td>\n",
       "      <td>0</td>\n",
       "      <td>15337.093</td>\n",
       "      <td>having a wedding</td>\n",
       "    </tr>\n",
       "    <tr>\n",
       "      <td>9</td>\n",
       "      <td>0</td>\n",
       "      <td>-2188.756445</td>\n",
       "      <td>41</td>\n",
       "      <td>secondary education</td>\n",
       "      <td>1</td>\n",
       "      <td>married</td>\n",
       "      <td>0</td>\n",
       "      <td>M</td>\n",
       "      <td>employee</td>\n",
       "      <td>0</td>\n",
       "      <td>23108.150</td>\n",
       "      <td>purchase of the house for my family</td>\n",
       "    </tr>\n",
       "  </tbody>\n",
       "</table>\n",
       "</div>"
      ],
      "text/plain": [
       "   children  days_employed  dob_years            education  education_id  \\\n",
       "0         1   -8437.673028         42    bachelor's degree             0   \n",
       "1         1   -4024.803754         36  secondary education             1   \n",
       "2         0   -5623.422610         33  Secondary Education             1   \n",
       "3         3   -4124.747207         32  secondary education             1   \n",
       "4         0  340266.072047         53  secondary education             1   \n",
       "5         0    -926.185831         27    bachelor's degree             0   \n",
       "6         0   -2879.202052         43    bachelor's degree             0   \n",
       "7         0    -152.779569         50  SECONDARY EDUCATION             1   \n",
       "8         2   -6929.865299         35    BACHELOR'S DEGREE             0   \n",
       "9         0   -2188.756445         41  secondary education             1   \n",
       "\n",
       "       family_status  family_status_id gender income_type  debt  total_income  \\\n",
       "0            married                 0      F    employee     0     40620.102   \n",
       "1            married                 0      F    employee     0     17932.802   \n",
       "2            married                 0      M    employee     0     23341.752   \n",
       "3            married                 0      M    employee     0     42820.568   \n",
       "4  civil partnership                 1      F     retiree     0     25378.572   \n",
       "5  civil partnership                 1      M    business     0     40922.170   \n",
       "6            married                 0      F    business     0     38484.156   \n",
       "7            married                 0      M    employee     0     21731.829   \n",
       "8  civil partnership                 1      F    employee     0     15337.093   \n",
       "9            married                 0      M    employee     0     23108.150   \n",
       "\n",
       "                               purpose  \n",
       "0                purchase of the house  \n",
       "1                         car purchase  \n",
       "2                purchase of the house  \n",
       "3              supplementary education  \n",
       "4                    to have a wedding  \n",
       "5                purchase of the house  \n",
       "6                 housing transactions  \n",
       "7                            education  \n",
       "8                     having a wedding  \n",
       "9  purchase of the house for my family  "
      ]
     },
     "execution_count": 2,
     "metadata": {},
     "output_type": "execute_result"
    }
   ],
   "source": [
    "credit_report.head(10)"
   ]
  },
  {
   "cell_type": "markdown",
   "metadata": {},
   "source": [
    "<div style=\"border:solid green 4px; padding: 20px\">You can also do the same with \"not last\" lines of code, like that:</div>"
   ]
  },
  {
   "cell_type": "code",
   "execution_count": 3,
   "metadata": {},
   "outputs": [
    {
     "data": {
      "text/html": [
       "<div>\n",
       "<style scoped>\n",
       "    .dataframe tbody tr th:only-of-type {\n",
       "        vertical-align: middle;\n",
       "    }\n",
       "\n",
       "    .dataframe tbody tr th {\n",
       "        vertical-align: top;\n",
       "    }\n",
       "\n",
       "    .dataframe thead th {\n",
       "        text-align: right;\n",
       "    }\n",
       "</style>\n",
       "<table border=\"1\" class=\"dataframe\">\n",
       "  <thead>\n",
       "    <tr style=\"text-align: right;\">\n",
       "      <th></th>\n",
       "      <th>children</th>\n",
       "      <th>days_employed</th>\n",
       "      <th>dob_years</th>\n",
       "      <th>education</th>\n",
       "      <th>education_id</th>\n",
       "      <th>family_status</th>\n",
       "      <th>family_status_id</th>\n",
       "      <th>gender</th>\n",
       "      <th>income_type</th>\n",
       "      <th>debt</th>\n",
       "      <th>total_income</th>\n",
       "      <th>purpose</th>\n",
       "    </tr>\n",
       "  </thead>\n",
       "  <tbody>\n",
       "    <tr>\n",
       "      <td>21515</td>\n",
       "      <td>1</td>\n",
       "      <td>-467.685130</td>\n",
       "      <td>28</td>\n",
       "      <td>secondary education</td>\n",
       "      <td>1</td>\n",
       "      <td>married</td>\n",
       "      <td>0</td>\n",
       "      <td>F</td>\n",
       "      <td>employee</td>\n",
       "      <td>1</td>\n",
       "      <td>17517.812</td>\n",
       "      <td>to become educated</td>\n",
       "    </tr>\n",
       "    <tr>\n",
       "      <td>21516</td>\n",
       "      <td>0</td>\n",
       "      <td>-914.391429</td>\n",
       "      <td>42</td>\n",
       "      <td>bachelor's degree</td>\n",
       "      <td>0</td>\n",
       "      <td>married</td>\n",
       "      <td>0</td>\n",
       "      <td>F</td>\n",
       "      <td>business</td>\n",
       "      <td>0</td>\n",
       "      <td>51649.244</td>\n",
       "      <td>purchase of my own house</td>\n",
       "    </tr>\n",
       "    <tr>\n",
       "      <td>21517</td>\n",
       "      <td>0</td>\n",
       "      <td>-404.679034</td>\n",
       "      <td>42</td>\n",
       "      <td>bachelor's degree</td>\n",
       "      <td>0</td>\n",
       "      <td>civil partnership</td>\n",
       "      <td>1</td>\n",
       "      <td>F</td>\n",
       "      <td>business</td>\n",
       "      <td>0</td>\n",
       "      <td>28489.529</td>\n",
       "      <td>buying my own car</td>\n",
       "    </tr>\n",
       "    <tr>\n",
       "      <td>21518</td>\n",
       "      <td>0</td>\n",
       "      <td>373995.710838</td>\n",
       "      <td>59</td>\n",
       "      <td>SECONDARY EDUCATION</td>\n",
       "      <td>1</td>\n",
       "      <td>married</td>\n",
       "      <td>0</td>\n",
       "      <td>F</td>\n",
       "      <td>retiree</td>\n",
       "      <td>0</td>\n",
       "      <td>24618.344</td>\n",
       "      <td>purchase of a car</td>\n",
       "    </tr>\n",
       "    <tr>\n",
       "      <td>21519</td>\n",
       "      <td>1</td>\n",
       "      <td>-2351.431934</td>\n",
       "      <td>37</td>\n",
       "      <td>graduate degree</td>\n",
       "      <td>4</td>\n",
       "      <td>divorced</td>\n",
       "      <td>3</td>\n",
       "      <td>M</td>\n",
       "      <td>employee</td>\n",
       "      <td>0</td>\n",
       "      <td>18551.846</td>\n",
       "      <td>buy commercial real estate</td>\n",
       "    </tr>\n",
       "    <tr>\n",
       "      <td>21520</td>\n",
       "      <td>1</td>\n",
       "      <td>-4529.316663</td>\n",
       "      <td>43</td>\n",
       "      <td>secondary education</td>\n",
       "      <td>1</td>\n",
       "      <td>civil partnership</td>\n",
       "      <td>1</td>\n",
       "      <td>F</td>\n",
       "      <td>business</td>\n",
       "      <td>0</td>\n",
       "      <td>35966.698</td>\n",
       "      <td>housing transactions</td>\n",
       "    </tr>\n",
       "    <tr>\n",
       "      <td>21521</td>\n",
       "      <td>0</td>\n",
       "      <td>343937.404131</td>\n",
       "      <td>67</td>\n",
       "      <td>secondary education</td>\n",
       "      <td>1</td>\n",
       "      <td>married</td>\n",
       "      <td>0</td>\n",
       "      <td>F</td>\n",
       "      <td>retiree</td>\n",
       "      <td>0</td>\n",
       "      <td>24959.969</td>\n",
       "      <td>purchase of a car</td>\n",
       "    </tr>\n",
       "    <tr>\n",
       "      <td>21522</td>\n",
       "      <td>1</td>\n",
       "      <td>-2113.346888</td>\n",
       "      <td>38</td>\n",
       "      <td>secondary education</td>\n",
       "      <td>1</td>\n",
       "      <td>civil partnership</td>\n",
       "      <td>1</td>\n",
       "      <td>M</td>\n",
       "      <td>employee</td>\n",
       "      <td>1</td>\n",
       "      <td>14347.610</td>\n",
       "      <td>property</td>\n",
       "    </tr>\n",
       "    <tr>\n",
       "      <td>21523</td>\n",
       "      <td>3</td>\n",
       "      <td>-3112.481705</td>\n",
       "      <td>38</td>\n",
       "      <td>secondary education</td>\n",
       "      <td>1</td>\n",
       "      <td>married</td>\n",
       "      <td>0</td>\n",
       "      <td>M</td>\n",
       "      <td>employee</td>\n",
       "      <td>1</td>\n",
       "      <td>39054.888</td>\n",
       "      <td>buying my own car</td>\n",
       "    </tr>\n",
       "    <tr>\n",
       "      <td>21524</td>\n",
       "      <td>2</td>\n",
       "      <td>-1984.507589</td>\n",
       "      <td>40</td>\n",
       "      <td>secondary education</td>\n",
       "      <td>1</td>\n",
       "      <td>married</td>\n",
       "      <td>0</td>\n",
       "      <td>F</td>\n",
       "      <td>employee</td>\n",
       "      <td>0</td>\n",
       "      <td>13127.587</td>\n",
       "      <td>to buy a car</td>\n",
       "    </tr>\n",
       "  </tbody>\n",
       "</table>\n",
       "</div>"
      ],
      "text/plain": [
       "       children  days_employed  dob_years            education  education_id  \\\n",
       "21515         1    -467.685130         28  secondary education             1   \n",
       "21516         0    -914.391429         42    bachelor's degree             0   \n",
       "21517         0    -404.679034         42    bachelor's degree             0   \n",
       "21518         0  373995.710838         59  SECONDARY EDUCATION             1   \n",
       "21519         1   -2351.431934         37      graduate degree             4   \n",
       "21520         1   -4529.316663         43  secondary education             1   \n",
       "21521         0  343937.404131         67  secondary education             1   \n",
       "21522         1   -2113.346888         38  secondary education             1   \n",
       "21523         3   -3112.481705         38  secondary education             1   \n",
       "21524         2   -1984.507589         40  secondary education             1   \n",
       "\n",
       "           family_status  family_status_id gender income_type  debt  \\\n",
       "21515            married                 0      F    employee     1   \n",
       "21516            married                 0      F    business     0   \n",
       "21517  civil partnership                 1      F    business     0   \n",
       "21518            married                 0      F     retiree     0   \n",
       "21519           divorced                 3      M    employee     0   \n",
       "21520  civil partnership                 1      F    business     0   \n",
       "21521            married                 0      F     retiree     0   \n",
       "21522  civil partnership                 1      M    employee     1   \n",
       "21523            married                 0      M    employee     1   \n",
       "21524            married                 0      F    employee     0   \n",
       "\n",
       "       total_income                     purpose  \n",
       "21515     17517.812          to become educated  \n",
       "21516     51649.244    purchase of my own house  \n",
       "21517     28489.529           buying my own car  \n",
       "21518     24618.344           purchase of a car  \n",
       "21519     18551.846  buy commercial real estate  \n",
       "21520     35966.698        housing transactions  \n",
       "21521     24959.969           purchase of a car  \n",
       "21522     14347.610                    property  \n",
       "21523     39054.888           buying my own car  \n",
       "21524     13127.587                to buy a car  "
      ]
     },
     "metadata": {},
     "output_type": "display_data"
    },
    {
     "data": {
      "text/plain": [
       "'This is a last line'"
      ]
     },
     "execution_count": 3,
     "metadata": {},
     "output_type": "execute_result"
    }
   ],
   "source": [
    "display(credit_report.tail(10))\n",
    "\"This is a last line\""
   ]
  },
  {
   "cell_type": "markdown",
   "metadata": {},
   "source": [
    "### Conclusion"
   ]
  },
  {
   "cell_type": "markdown",
   "metadata": {},
   "source": [
    "From a cursory glance at the data, there are negative numbers in the days_employed column, inconsistent formatting in the education column and possibly other issues that need to be dealt with."
   ]
  },
  {
   "cell_type": "markdown",
   "metadata": {},
   "source": [
    "### Step 2. Data preprocessing"
   ]
  },
  {
   "cell_type": "markdown",
   "metadata": {},
   "source": [
    "### Processing missing values"
   ]
  },
  {
   "cell_type": "code",
   "execution_count": 4,
   "metadata": {},
   "outputs": [
    {
     "name": "stdout",
     "output_type": "stream",
     "text": [
      "<class 'pandas.core.frame.DataFrame'>\n",
      "RangeIndex: 21525 entries, 0 to 21524\n",
      "Data columns (total 12 columns):\n",
      "children            21525 non-null int64\n",
      "days_employed       21525 non-null float64\n",
      "dob_years           21525 non-null int64\n",
      "education           21525 non-null object\n",
      "education_id        21525 non-null int64\n",
      "family_status       21525 non-null object\n",
      "family_status_id    21525 non-null int64\n",
      "gender              21525 non-null object\n",
      "income_type         21525 non-null object\n",
      "debt                21525 non-null int64\n",
      "total_income        21525 non-null float64\n",
      "purpose             21525 non-null object\n",
      "dtypes: float64(2), int64(5), object(5)\n",
      "memory usage: 2.0+ MB\n",
      "None\n"
     ]
    }
   ],
   "source": [
    "credit_report['total_income'] = credit_report['total_income'].fillna(0)\n",
    "credit_report['days_employed'] = credit_report['days_employed'].fillna(0)\n",
    "#Check if the missing data has been changed successfully\n",
    "print(credit_report.info())\n"
   ]
  },
  {
   "cell_type": "code",
   "execution_count": 5,
   "metadata": {},
   "outputs": [
    {
     "name": "stdout",
     "output_type": "stream",
     "text": [
      "   children  days_employed  dob_years            education  education_id  \\\n",
      "0         1    8437.673028         42    bachelor's degree             0   \n",
      "1         1    4024.803754         36  secondary education             1   \n",
      "2         0    5623.422610         33  Secondary Education             1   \n",
      "3         3    4124.747207         32  secondary education             1   \n",
      "4         0  340266.072047         53  secondary education             1   \n",
      "5         0     926.185831         27    bachelor's degree             0   \n",
      "6         0    2879.202052         43    bachelor's degree             0   \n",
      "7         0     152.779569         50  SECONDARY EDUCATION             1   \n",
      "8         2    6929.865299         35    BACHELOR'S DEGREE             0   \n",
      "9         0    2188.756445         41  secondary education             1   \n",
      "\n",
      "       family_status  family_status_id gender income_type  debt  total_income  \\\n",
      "0            married                 0      F    employee     0     40620.102   \n",
      "1            married                 0      F    employee     0     17932.802   \n",
      "2            married                 0      M    employee     0     23341.752   \n",
      "3            married                 0      M    employee     0     42820.568   \n",
      "4  civil partnership                 1      F     retiree     0     25378.572   \n",
      "5  civil partnership                 1      M    business     0     40922.170   \n",
      "6            married                 0      F    business     0     38484.156   \n",
      "7            married                 0      M    employee     0     21731.829   \n",
      "8  civil partnership                 1      F    employee     0     15337.093   \n",
      "9            married                 0      M    employee     0     23108.150   \n",
      "\n",
      "                               purpose  \n",
      "0                purchase of the house  \n",
      "1                         car purchase  \n",
      "2                purchase of the house  \n",
      "3              supplementary education  \n",
      "4                    to have a wedding  \n",
      "5                purchase of the house  \n",
      "6                 housing transactions  \n",
      "7                            education  \n",
      "8                     having a wedding  \n",
      "9  purchase of the house for my family  \n",
      "1212\n"
     ]
    }
   ],
   "source": [
    "credit_report['days_employed'] = credit_report['days_employed'].abs()\n",
    "#Check if the negative numbers are correctly changed to positive\n",
    "print(credit_report.head(10))\n",
    "\n",
    "#check if there are misinputs from customers about their age\n",
    "print(credit_report[credit_report['dob_years']==0].count().sum())\n",
    "\n"
   ]
  },
  {
   "cell_type": "code",
   "execution_count": 6,
   "metadata": {},
   "outputs": [
    {
     "name": "stdout",
     "output_type": "stream",
     "text": [
      "0\n"
     ]
    }
   ],
   "source": [
    "\n",
    "#change the cells with 0 as dob_year to avg_age\n",
    "avg_age = credit_report['dob_years'].mean()\n",
    "credit_report.loc[credit_report['dob_years'] == 0] = avg_age\n",
    "\n",
    "\n",
    "#check if the changes went through\n",
    "print(credit_report[credit_report['dob_years']==0].count().sum())\n"
   ]
  },
  {
   "cell_type": "markdown",
   "metadata": {},
   "source": [
    "<div style=\"border:solid #ebd731; 4px; padding: 20px\">The good practice is - when you are producing any output - finish the cell and start the new one. This way every code and the output this code generated would be situated close to each other(most likely - on the same page). It increases the readability of your notebook a lot.<br><hr><b>upd. </b>Good.</div>"
   ]
  },
  {
   "cell_type": "markdown",
   "metadata": {},
   "source": [
    "### Conclusion"
   ]
  },
  {
   "cell_type": "markdown",
   "metadata": {},
   "source": [
    "After determining that there was missing data in the days_employed & total_income columns, I decided to replace the missing data with 0. \n",
    "For the negative numbers in days_employed, I changed the negative numbers into positive numbers because I think it was incorrectly inputted as negative."
   ]
  },
  {
   "cell_type": "markdown",
   "metadata": {},
   "source": [
    "### Data type replacement"
   ]
  },
  {
   "cell_type": "code",
   "execution_count": 7,
   "metadata": {},
   "outputs": [
    {
     "name": "stdout",
     "output_type": "stream",
     "text": [
      "<class 'pandas.core.frame.DataFrame'>\n",
      "RangeIndex: 21525 entries, 0 to 21524\n",
      "Data columns (total 12 columns):\n",
      "children            21525 non-null float64\n",
      "days_employed       21525 non-null int64\n",
      "dob_years           21525 non-null float64\n",
      "education           21525 non-null object\n",
      "education_id        21525 non-null float64\n",
      "family_status       21525 non-null object\n",
      "family_status_id    21525 non-null float64\n",
      "gender              21525 non-null object\n",
      "income_type         21525 non-null object\n",
      "debt                21525 non-null float64\n",
      "total_income        21525 non-null float64\n",
      "purpose             21525 non-null object\n",
      "dtypes: float64(6), int64(1), object(5)\n",
      "memory usage: 2.0+ MB\n",
      "None\n"
     ]
    }
   ],
   "source": [
    "credit_report['days_employed'] = credit_report['days_employed'].astype('int')\n",
    "#Check if the change has taken place\n",
    "print(credit_report.info())"
   ]
  },
  {
   "cell_type": "markdown",
   "metadata": {},
   "source": [
    "### Conclusion"
   ]
  },
  {
   "cell_type": "markdown",
   "metadata": {},
   "source": [
    "I changed the days_employed column into an int because it makes more sense to have it as a whole number."
   ]
  },
  {
   "cell_type": "markdown",
   "metadata": {},
   "source": [
    "### Processing duplicates"
   ]
  },
  {
   "cell_type": "code",
   "execution_count": 8,
   "metadata": {},
   "outputs": [
    {
     "name": "stdout",
     "output_type": "stream",
     "text": [
      "154\n",
      "0\n",
      "secondary education    13646\n",
      "bachelor's degree       4678\n",
      "SECONDARY EDUCATION      770\n",
      "Secondary Education      708\n",
      "some college             666\n",
      "BACHELOR'S DEGREE        272\n",
      "Bachelor's Degree        266\n",
      "primary education        250\n",
      "Some College              47\n",
      "SOME COLLEGE              29\n",
      "PRIMARY EDUCATION         17\n",
      "Primary Education         15\n",
      "graduate degree            4\n",
      "GRADUATE DEGREE            1\n",
      "Graduate Degree            1\n",
      "43.29337979094077          1\n",
      "Name: education, dtype: int64\n",
      "secondary education    15124\n",
      "bachelor's degree       5216\n",
      "some college             742\n",
      "primary education        282\n",
      "graduate degree            6\n",
      "Name: education, dtype: int64\n"
     ]
    }
   ],
   "source": [
    "#Check if there are any duplicate rows\n",
    "print(credit_report.duplicated().sum())\n",
    "\n",
    "\n",
    "credit_report = credit_report.drop_duplicates()\n",
    "#Check if the changes went through\n",
    "print(credit_report.duplicated().sum())\n",
    "\n",
    "#before the change in str \n",
    "print(credit_report['education'].value_counts())\n",
    "\n",
    "#after the change in str\n",
    "credit_report['education'] = credit_report['education'].str.lower()\n",
    "print(credit_report['education'].value_counts())\n"
   ]
  },
  {
   "cell_type": "markdown",
   "metadata": {},
   "source": [
    "### Conclusion"
   ]
  },
  {
   "cell_type": "markdown",
   "metadata": {},
   "source": [
    "I first checked the data if there were any rows that were the same and then deleted the duplicated rows.\n",
    "I also changed the strings in education to lower case in order to have it be more precise."
   ]
  },
  {
   "cell_type": "markdown",
   "metadata": {},
   "source": [
    "### Categorizing Data"
   ]
  },
  {
   "cell_type": "code",
   "execution_count": 9,
   "metadata": {},
   "outputs": [],
   "source": [
    "#Created a function to group the customers by age group\n",
    "def age_group(age):\n",
    "    \"\"\"\n",
    "    The function returns the age group according to age value, by using the following rules:\n",
    "    —'children', with age value <= 18 years\n",
    "    —'adult', with age value over 18 and up to 64\n",
    "    —'retired' for all other cases\n",
    "    \"\"\"\n",
    "    \n",
    "    if age <= 18:\n",
    "        return 'child'\n",
    "    elif age <= 64:\n",
    "        return 'adult'\n",
    "    return 'retired'\n",
    "\n",
    "credit_report['age_group'] = credit_report['dob_years'].apply(age_group)\n"
   ]
  },
  {
   "cell_type": "code",
   "execution_count": 10,
   "metadata": {},
   "outputs": [],
   "source": [
    "#Created a function to group the customers by income level\n",
    "def income_level(income):\n",
    "    \"\"\"\n",
    "    The function returns the income group according to income value, by using the following rules:\n",
    "    —'lower_income', with income value <= 20,000 \n",
    "    —'middle_income', with income value over 20,000 and up to 80,000\n",
    "    —'upper_income' for all other cases\n",
    "    \"\"\"\n",
    "    \n",
    "    if income <= 20000:\n",
    "        return 'lower_income'\n",
    "    elif income <= 80000:\n",
    "        return 'middle_income'\n",
    "    return 'upper_income'\n",
    "\n",
    "credit_report['income_level'] = credit_report['total_income'].apply(income_level)\n",
    "\n",
    "credit_report['purpose'] = credit_report['purpose'].astype('str')\n",
    "\n"
   ]
  },
  {
   "cell_type": "code",
   "execution_count": 11,
   "metadata": {},
   "outputs": [
    {
     "name": "stdout",
     "output_type": "stream",
     "text": [
      "real estate    6980\n",
      "car            4286\n",
      "education      3996\n",
      "house          3787\n",
      "wedding        2321\n",
      "Name: purpose, dtype: int64\n"
     ]
    }
   ],
   "source": [
    "#First lemmatized the different purposes of the customers in order to simplify and better categorize the data\n",
    "purpose = credit_report['purpose'].unique()\n",
    "\n",
    "#function to lemmatize the credit_report['purpose'] column\n",
    "def purpose_lemma(row):\n",
    "    lemmas = [wordnet_lemma.lemmatize(w, pos = 'n') for w in nltk.word_tokenize(row)]\n",
    "    \n",
    "\n",
    "    return lemmas\n",
    "   \n",
    "#function to simplify the credit_report['purpose'] column    \n",
    "def simple_purpose(lemmas):\n",
    "    if 'car' in lemmas:\n",
    "        return  'car'\n",
    "    elif 'wedding' in lemmas:\n",
    "        return 'wedding'\n",
    "    elif 'estate' in lemmas or 'property' in lemmas:\n",
    "        return 'real estate'\n",
    "    elif 'housing' in lemmas or 'house' in lemmas:\n",
    "        return 'house'\n",
    "    elif 'university' in lemmas or 'education' in lemmas or 'educated' in lemmas:\n",
    "        return 'education'\n",
    "\n",
    "            \n",
    "credit_report['purpose'] = credit_report['purpose'].apply(purpose_lemma)\n",
    "credit_report['purpose'] = credit_report['purpose'].apply(simple_purpose)\n",
    "\n",
    "#Check if the changes went through       \n",
    "print(credit_report['purpose'].value_counts())\n"
   ]
  },
  {
   "cell_type": "markdown",
   "metadata": {},
   "source": [
    "<div style=\"border:solid #ebd731; 4px; padding: 20px\"><a href=\"https://www.python.org/dev/peps/pep-0008/\">PEP 8</a> recommends you to place all your imports into your first cell, so other users would have an opportunity to check if their environment is ready to lanch your project or not by a quick glance on it.</div>"
   ]
  },
  {
   "cell_type": "markdown",
   "metadata": {},
   "source": [
    "<div style=\"border:solid #ebd731; 4px; padding: 20px\">I like your custom functions, although there seems to be way too much in that cell.</div>"
   ]
  },
  {
   "cell_type": "markdown",
   "metadata": {},
   "source": [
    "### Conclusion"
   ]
  },
  {
   "cell_type": "markdown",
   "metadata": {},
   "source": [
    "To better understand the data, I further categorized the customers by age group."
   ]
  },
  {
   "cell_type": "markdown",
   "metadata": {},
   "source": [
    "### Step 3. Answer these questions"
   ]
  },
  {
   "cell_type": "markdown",
   "metadata": {},
   "source": [
    "- Is there a relation between having kids and repaying a loan on time?"
   ]
  },
  {
   "cell_type": "code",
   "execution_count": 12,
   "metadata": {},
   "outputs": [
    {
     "name": "stdout",
     "output_type": "stream",
     "text": [
      "92554\n",
      "9436\n"
     ]
    }
   ],
   "source": [
    "#Customers who have kids and have never defaulted on a loan\n",
    "print(credit_report[(credit_report['children']>0) & (credit_report['debt']==0)].count().sum())\n",
    "\n",
    "#Customers who have kids and have defaulted on a loan\n",
    "print(credit_report[(credit_report['children']>0) & (credit_report['debt']==1)].count().sum())\n"
   ]
  },
  {
   "cell_type": "markdown",
   "metadata": {},
   "source": [
    "### Conclusion"
   ]
  },
  {
   "cell_type": "markdown",
   "metadata": {},
   "source": [
    "By comparing the number of people who have kids and never defaulted on a loan to those who have kids and have defaulted on a loan, it seems that those who have kids are less likely to default on a loan."
   ]
  },
  {
   "cell_type": "markdown",
   "metadata": {},
   "source": [
    "- Is there a relation between marital status and repaying a loan on time?"
   ]
  },
  {
   "cell_type": "code",
   "execution_count": 13,
   "metadata": {},
   "outputs": [
    {
     "name": "stdout",
     "output_type": "stream",
     "text": [
      "Ratio of married w/ debt to married w/o debt: 0.08154468684025334\n",
      "Ratio of single w/ debt to single w/o debt: 0.1082903609678699\n",
      "Ratio of divorced w/ debt to divorced w/o debt: 0.07727272727272727\n",
      "Ratio of widowed w/ debt to widowed w/o debt: 0.06950672645739911\n"
     ]
    }
   ],
   "source": [
    "married_wo_default = credit_report[(credit_report['family_status'] == 'married') & (credit_report['debt']==0)].count().sum()\n",
    "married_w_default = credit_report[(credit_report['family_status'] == 'married') & (credit_report['debt']==1)].count().sum()\n",
    "print('Ratio of married w/ debt to married w/o debt:', married_w_default / married_wo_default)\n",
    "\n",
    "single_wo_default = credit_report[(credit_report['family_status'] == 'unmarried') & (credit_report['debt']==0)].count().sum()\n",
    "single_w_default = credit_report[(credit_report['family_status'] == 'unmarried') & (credit_report['debt']==1)].count().sum()\n",
    "print('Ratio of single w/ debt to single w/o debt:', single_w_default / single_wo_default)\n",
    "\n",
    "divorce_wo_default = credit_report[(credit_report['family_status'] == 'divorced') & (credit_report['debt']==0)].count().sum()\n",
    "divorce_w_default = credit_report[(credit_report['family_status'] == 'divorced') & (credit_report['debt']==1)].count().sum()\n",
    "print('Ratio of divorced w/ debt to divorced w/o debt:', divorce_w_default / divorce_wo_default)\n",
    "\n",
    "widow_wo_default = credit_report[(credit_report['family_status'] == 'widow / widower') & (credit_report['debt']==0)].count().sum()\n",
    "widow_w_default = credit_report[(credit_report['family_status'] == 'widow / widower') & (credit_report['debt']==1)].count().sum()\n",
    "print('Ratio of widowed w/ debt to widowed w/o debt:', widow_w_default / widow_wo_default)"
   ]
  },
  {
   "cell_type": "code",
   "execution_count": 14,
   "metadata": {},
   "outputs": [
    {
     "name": "stdout",
     "output_type": "stream",
     "text": [
      "                                    len          mean\n",
      "                           total_income  total_income\n",
      "family_status     debt                               \n",
      "43.29337979094077 43.29338          1.0     43.293380\n",
      "civil partnership 0.00000        3756.0  24133.030106\n",
      "                  1.00000         386.0  22317.415098\n",
      "divorced          0.00000        1100.0  24798.301114\n",
      "                  1.00000          85.0  22794.716729\n",
      "married           0.00000       11368.0  24453.973942\n",
      "                  1.00000         927.0  23901.715900\n",
      "unmarried         0.00000        2521.0  24133.147538\n",
      "                  1.00000         273.0  24867.309264\n",
      "widow / widower   0.00000         892.0  20744.762277\n",
      "                  1.00000          62.0  21040.877500\n",
      "Ratio of married w/ debt to married w/o debt: 0.08154468684025334\n",
      "Ratio of single w/ debt to single w/o debt: 0.1082903609678699\n",
      "Ratio of divorced w/ debt to divorced w/o debt: 0.07727272727272727\n",
      "Ratio of widowed w/ debt to widowed w/o debt: 0.06950672645739911\n"
     ]
    }
   ],
   "source": [
    "martial_status = credit_report.pivot_table(index= ['family_status','debt'], values=['total_income'], aggfunc=[len,'mean'])\n",
    "#View pivot table to determine ratio\n",
    "print(martial_status)\n",
    "\n",
    "#Calculate ratios\n",
    "print('Ratio of married w/ debt to married w/o debt:', 927 / 11368)\n",
    "\n",
    "print('Ratio of single w/ debt to single w/o debt:', 273 / 2521)\n",
    "\n",
    "print('Ratio of divorced w/ debt to divorced w/o debt:', 85 / 1100)\n",
    "\n",
    "print('Ratio of widowed w/ debt to widowed w/o debt:', 62 / 892)"
   ]
  },
  {
   "cell_type": "markdown",
   "metadata": {},
   "source": [
    "<div style=\"border:solid #ebd731; 4px; padding: 20px\">Result that you've got here is correct. Although it would be nice to see how you use pivot_table method to calculate those metrics within your groups.<br><hr><b>upd. </b>To calculate shares inside the pivot_table you could just make aggfunc='mean' for our binary 'debt' column.</div>"
   ]
  },
  {
   "cell_type": "markdown",
   "metadata": {},
   "source": [
    "### Conclusion"
   ]
  },
  {
   "cell_type": "markdown",
   "metadata": {},
   "source": [
    "From looking at the ratios of the different marital statuses and their debt history, it would seem that widowed people are most likely to pay back their debts, and then to divorced, married, and singles. "
   ]
  },
  {
   "cell_type": "markdown",
   "metadata": {},
   "source": [
    "- Is there a relation between income level and repaying a loan on time?"
   ]
  },
  {
   "cell_type": "code",
   "execution_count": 15,
   "metadata": {},
   "outputs": [
    {
     "name": "stdout",
     "output_type": "stream",
     "text": [
      "Ratio of lower income w/ debt to lower income w/o debt: 0.08941963770624206\n",
      "Ratio of middle income w/ debt to middle income w/o debt: 0.08771603791116893\n",
      "Ratio of upper income w/ debt to upper income w/o debt: 0.0673076923076923\n"
     ]
    }
   ],
   "source": [
    "lower_wo_default = credit_report[(credit_report['income_level'] == 'lower_income') & (credit_report['debt']==0)].count().sum()\n",
    "lower_w_default = credit_report[(credit_report['income_level'] == 'lower_income') & (credit_report['debt']==1)].count().sum()\n",
    "print('Ratio of lower income w/ debt to lower income w/o debt:', lower_w_default / lower_wo_default)\n",
    "\n",
    "middle_wo_default = credit_report[(credit_report['income_level'] == 'middle_income') & (credit_report['debt']==0)].count().sum()\n",
    "middle_w_default = credit_report[(credit_report['income_level'] == 'middle_income') & (credit_report['debt']==1)].count().sum()\n",
    "print('Ratio of middle income w/ debt to middle income w/o debt:', middle_w_default / middle_wo_default)\n",
    "\n",
    "upper_wo_default = credit_report[(credit_report['income_level'] == 'upper_income') & (credit_report['debt']==0)].count().sum()\n",
    "upper_w_default = credit_report[(credit_report['income_level'] == 'upper_income') & (credit_report['debt']==1)].count().sum()\n",
    "print('Ratio of upper income w/ debt to upper income w/o debt:', upper_w_default / upper_wo_default)"
   ]
  },
  {
   "cell_type": "markdown",
   "metadata": {},
   "source": [
    "### Conclusion"
   ]
  },
  {
   "cell_type": "markdown",
   "metadata": {},
   "source": [
    "By analyzing the ratios of the different income levels and their debt repayment, those in the upper income level have a higher chance of repaying their loans, with the next being middle and then lower income level."
   ]
  },
  {
   "cell_type": "markdown",
   "metadata": {},
   "source": [
    "- How do different loan purposes affect on-time repayment of the loan?"
   ]
  },
  {
   "cell_type": "code",
   "execution_count": 16,
   "metadata": {},
   "outputs": [
    {
     "name": "stdout",
     "output_type": "stream",
     "text": [
      "Ratio of wedding w/ debt to wedding w/o debt: 0.08610201216658868\n",
      "Ratio of house w/ debt to house w/o debt: 0.07189357486555335\n",
      "Ratio of real estate w/ debt to real estate w/o debt: 0.08133230054221534\n",
      "Ratio of car w/ debt to car w/o debt: 0.1029336078229542\n",
      "Ratio of education w/ debt to education w/o debt: 0.10204081632653061\n"
     ]
    }
   ],
   "source": [
    "wedding_wo_default = credit_report[(credit_report['purpose'] == 'wedding') & (credit_report['debt']==0)].count().sum()\n",
    "wedding_w_default = credit_report[(credit_report['purpose'] == 'wedding') & (credit_report['debt']==1)].count().sum()\n",
    "print('Ratio of wedding w/ debt to wedding w/o debt:', wedding_w_default / wedding_wo_default)\n",
    "\n",
    "house_wo_default = credit_report[(credit_report['purpose'] == 'house') & (credit_report['debt']==0)].count().sum()\n",
    "house_w_default = credit_report[(credit_report['purpose'] == 'house') & (credit_report['debt']==1)].count().sum()\n",
    "print('Ratio of house w/ debt to house w/o debt:', house_w_default / house_wo_default)\n",
    "\n",
    "re_wo_default = credit_report[(credit_report['purpose'] == 'real estate') & (credit_report['debt']==0)].count().sum()\n",
    "re_w_default = credit_report[(credit_report['purpose'] == 'real estate') & (credit_report['debt']==1)].count().sum()\n",
    "print('Ratio of real estate w/ debt to real estate w/o debt:', re_w_default / re_wo_default)\n",
    "\n",
    "car_wo_default = credit_report[(credit_report['purpose'] == 'car') & (credit_report['debt']==0)].count().sum()\n",
    "car_w_default = credit_report[(credit_report['purpose'] == 'car') & (credit_report['debt']==1)].count().sum()\n",
    "print('Ratio of car w/ debt to car w/o debt:', car_w_default / car_wo_default)\n",
    "\n",
    "edu_wo_default = credit_report[(credit_report['purpose'] == 'education') & (credit_report['debt']==0)].count().sum()\n",
    "edu_w_default = credit_report[(credit_report['purpose'] == 'education') & (credit_report['debt']==1)].count().sum()\n",
    "print('Ratio of education w/ debt to education w/o debt:', edu_w_default / edu_wo_default)"
   ]
  },
  {
   "cell_type": "markdown",
   "metadata": {},
   "source": [
    "### Conclusion"
   ]
  },
  {
   "cell_type": "markdown",
   "metadata": {},
   "source": [
    "After comparing the different purposes and their debt history, it would appear that those with a purpose of buying a house will less likely default on their loan, with  real estate next, then wedding, then education and lastly car. "
   ]
  },
  {
   "cell_type": "markdown",
   "metadata": {},
   "source": [
    "### Step 4. General conclusion"
   ]
  },
  {
   "cell_type": "markdown",
   "metadata": {},
   "source": [
    "People who want to take out a loan come from all sorts of backgrounds and have different variables that need to be accounted for in order to see if they should be given another loan. After analyzing this set of data, it would seem that generally, those with children, who are widowed, in the upper income bracket, and looking to buy a house will be the most likely to pay back their loans. "
   ]
  },
  {
   "cell_type": "markdown",
   "metadata": {},
   "source": [
    "<div style=\"border:solid green 4px; padding: 20px\">Great job! Waiting for you to fix those little things I've mentioned. See you!<br><hr><b>upd. </b>Best of luck at your next assignments. Take care!</div>"
   ]
  },
  {
   "cell_type": "markdown",
   "metadata": {},
   "source": [
    "### Project Readiness Checklist\n",
    "\n",
    "Put 'x' in the completed points. Then press Shift + Enter."
   ]
  },
  {
   "cell_type": "markdown",
   "metadata": {},
   "source": [
    "- [x]  file open;\n",
    "- [ ]  file examined;\n",
    "- [ ]  missing values defined;\n",
    "- [ ]  missing values are filled;\n",
    "- [ ]  an explanation of which missing value types were detected;\n",
    "- [ ]  explanation for the possible causes of missing values;\n",
    "- [ ]  an explanation of how the blanks are filled;\n",
    "- [ ]  replaced the real data type with an integer;\n",
    "- [ ]  an explanation of which method is used to change the data type and why;\n",
    "- [ ]  duplicates deleted;\n",
    "- [ ]  an explanation of which method is used to find and remove duplicates;\n",
    "- [ ]  description of the possible reasons for the appearance of duplicates in the data;\n",
    "- [ ]  data is categorized;\n",
    "- [ ]  an explanation of the principle of data categorization;\n",
    "- [ ]  an answer to the question \"Is there a relation between having kids and repaying a loan on time?\";\n",
    "- [ ]  an answer to the question \" Is there a relation between marital status and repaying a loan on time?\";\n",
    "- [ ]   an answer to the question \" Is there a relation between income level and repaying a loan on time?\";\n",
    "- [ ]  an answer to the question \" How do different loan purposes affect on-time repayment of the loan?\"\n",
    "- [ ]  conclusions are present on each stage;\n",
    "- [ ]  a general conclusion is made."
   ]
  }
 ],
 "metadata": {
  "kernelspec": {
   "display_name": "Python 3",
   "language": "python",
   "name": "python3"
  },
  "language_info": {
   "codemirror_mode": {
    "name": "ipython",
    "version": 3
   },
   "file_extension": ".py",
   "mimetype": "text/x-python",
   "name": "python",
   "nbconvert_exporter": "python",
   "pygments_lexer": "ipython3",
   "version": "3.7.3"
  }
 },
 "nbformat": 4,
 "nbformat_minor": 2
}
